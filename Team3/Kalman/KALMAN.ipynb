{
 "cells": [
  {
   "cell_type": "code",
   "execution_count": 3,
   "id": "a0b9fb60-abe6-4450-921b-dc134855d5be",
   "metadata": {},
   "outputs": [],
   "source": [
    "import numpy as np\n",
    "from filterpy.kalman import KalmanFilter\n",
    "from filterpy.kalman import ExtendedKalmanFilter\n",
    "from filterpy.common import Q_discrete_white_noise\n",
    "\n",
    "\n",
    "\n",
    "f = KalmanFilter (dim_x=3, dim_z=3)\n",
    "\n",
    "f.x = np.array([[2,],    # position\n",
    "                [0.]])   # velocity\n",
    "f.Q = Q_discrete_white_noise(dim=2, dt=0.1, var=0.13)\n"
   ]
  },
  {
   "cell_type": "code",
   "execution_count": null,
   "id": "fc605e1f-7fda-4e9c-b9d1-4752e259e8cc",
   "metadata": {},
   "outputs": [],
   "source": []
  },
  {
   "cell_type": "code",
   "execution_count": null,
   "id": "14e7de79-cf77-4b7e-a108-2e980b7a9f58",
   "metadata": {},
   "outputs": [],
   "source": []
  },
  {
   "cell_type": "code",
   "execution_count": null,
   "id": "876626e5-6b3f-4c15-af2c-de62fb06d934",
   "metadata": {},
   "outputs": [],
   "source": []
  },
  {
   "cell_type": "code",
   "execution_count": null,
   "id": "5e6d69b0-e4dd-45f3-ad00-660efe27990b",
   "metadata": {},
   "outputs": [],
   "source": []
  }
 ],
 "metadata": {
  "kernelspec": {
   "display_name": "Python 3 (ipykernel)",
   "language": "python",
   "name": "python3"
  },
  "language_info": {
   "codemirror_mode": {
    "name": "ipython",
    "version": 3
   },
   "file_extension": ".py",
   "mimetype": "text/x-python",
   "name": "python",
   "nbconvert_exporter": "python",
   "pygments_lexer": "ipython3",
   "version": "3.11.7"
  }
 },
 "nbformat": 4,
 "nbformat_minor": 5
}
